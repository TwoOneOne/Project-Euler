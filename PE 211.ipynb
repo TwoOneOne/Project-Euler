{
 "cells": [
  {
   "cell_type": "code",
   "execution_count": 1,
   "metadata": {},
   "outputs": [],
   "source": [
    "#For a positive integer n, let σ2(n) be the sum of the squares of its divisors. For example, σ2(10) = 1 + 4 + 25 + 100 = 130.\n",
    "#Find the sum of all n, 0 < n < 64,000,000 such that σ2(n) is a perfect square."
   ]
  },
  {
   "cell_type": "code",
   "execution_count": 139,
   "metadata": {},
   "outputs": [
    {
     "name": "stdout",
     "output_type": "stream",
     "text": [
      "Enter your number 64000000\n",
      "[1, 42, 246, 287, 728, 1434, 1673, 1880, 4264, 6237, 9799, 9855, 18330, 21352, 21385, 24856, 36531, 39990, 46655, 57270, 66815, 92664, 125255, 156570, 182665, 208182, 212949, 242879, 273265, 380511, 391345, 411558, 539560, 627215, 693160, 730145, 741096, 773224, 814463, 931722, 992680, 1069895, 1087009, 1143477, 1166399, 1422577, 1592935, 1815073, 2281255, 2544697, 2713880, 2722005, 2828385, 3054232, 3132935, 3145240, 3188809, 3508456, 4026280, 4647985, 4730879, 5024488, 5054015, 5143945, 5260710, 5938515, 6128024, 6236705, 6366767, 6956927, 6996904, 7133672, 7174440, 7538934, 7736646, 7818776, 8292583, 8429967, 8504595, 8795423, 9026087, 9963071, 11477130, 11538505, 11725560, 12158135, 12939480, 12948776, 13495720, 13592118, 13736408, 15203889, 15857471, 16149848, 16436490, 16487415, 16909849, 18391401, 18422120, 20549528, 20813976, 20871649, 21251412, 22713455, 23250645, 23630711, 24738935, 26338473, 26343030, 26594568, 28113048, 29429144, 29778762, 29973414, 30666090, 30915027, 34207446, 34741889, 34968983, 35721896, 37113593, 37343065, 38598255, 39256230, 42021720, 44935590, 45795688, 45798935, 48988758, 49375521, 51516049, 51912289, 52867081, 56215914, 59748234, 61116363, 62158134, 63286535]\n"
     ]
    }
   ],
   "source": [
    "import math\n",
    "\n",
    "number = input(\"Enter your number \")\n",
    "\n",
    "def get_divisors(n):\n",
    "    divisor = []\n",
    "    \n",
    "    for i in range(1, int(math.sqrt(n))+1):\n",
    "        if n % i == 0:\n",
    "            divisor.append(i)\n",
    "            \n",
    "    k = len(divisor)\n",
    "    sr = math.sqrt(n)\n",
    "    \n",
    "    if ((sr - math.floor(sr)) == 0):\n",
    "        for i in range(1,k):\n",
    "            divisor.append(int(n/divisor[-2*i]))\n",
    "        return divisor\n",
    "    else:\n",
    "        for i in range(1,k+1):\n",
    "            divisor.append(int(n/divisor[1-2*i]))\n",
    "        return divisor\n",
    "\n",
    "def div_sqr_sum_issqr(x):\n",
    "    div = get_divisors(x)\n",
    "    sqsum = 0\n",
    "    \n",
    "    for i in range (1, len(div)+1):\n",
    "        sqsum = sqsum + div[i-1]*div[i-1]\n",
    "    \n",
    "    sr = math.sqrt(sqsum)\n",
    "    return((sr - math.floor(sr)) == 0)\n",
    "\n",
    "found_special = []\n",
    "\n",
    "for x in range(1,int(number)+1):\n",
    "    if (div_sqr_sum_issqr(x)):\n",
    "        found_special.append(x)\n",
    "\n",
    "print(found_special)"
   ]
  },
  {
   "cell_type": "code",
   "execution_count": 140,
   "metadata": {},
   "outputs": [
    {
     "data": {
      "text/plain": [
       "1922364685"
      ]
     },
     "execution_count": 140,
     "metadata": {},
     "output_type": "execute_result"
    }
   ],
   "source": [
    "sum(found_special)"
   ]
  }
 ],
 "metadata": {
  "kernelspec": {
   "display_name": "Python 3",
   "language": "python",
   "name": "python3"
  },
  "language_info": {
   "codemirror_mode": {
    "name": "ipython",
    "version": 3
   },
   "file_extension": ".py",
   "mimetype": "text/x-python",
   "name": "python",
   "nbconvert_exporter": "python",
   "pygments_lexer": "ipython3",
   "version": "3.7.7"
  }
 },
 "nbformat": 4,
 "nbformat_minor": 4
}
