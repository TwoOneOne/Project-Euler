{
 "cells": [
  {
   "cell_type": "code",
   "execution_count": 1,
   "metadata": {},
   "outputs": [],
   "source": [
    "#If we list all the natural numbers below 10 that are multiples of 3 or 5, we get 3, 5, 6 and 9. The sum of these multiples is 23.\n",
    "#Find the sum of all the multiples of 3 or 5 below 1000."
   ]
  },
  {
   "cell_type": "code",
   "execution_count": 2,
   "metadata": {},
   "outputs": [
    {
     "name": "stdout",
     "output_type": "stream",
     "text": [
      "What is your first number? 5\n",
      "What is your second number? 3\n",
      "What is ceiling? 1000\n",
      "Sum of all the multiples of 3 or 5 below 1000 is 234168\n"
     ]
    }
   ],
   "source": [
    "#Get Inputs - two seeds and a ceiling\n",
    "seed1 = int(input(\"What is your first number? \"))\n",
    "seed2 = int(input(\"What is your second number? \"))\n",
    "ceiling = int(input(\"What is ceiling? \"))\n",
    "\n",
    "#Sort seeds\n",
    "if seed1 > seed2:\n",
    "    seed1 = seed1 + seed2\n",
    "    seed2 = seed1 - seed2\n",
    "    seed1 = seed1 - seed2\n",
    "\n",
    "#Recursive HCF function\n",
    "def gethcf(number1, number2):\n",
    "    if (number2 % number1 == 0):\n",
    "        return number1\n",
    "    else:\n",
    "        return gethcf(number2 % number1, number1)\n",
    "\n",
    "#Calculate LCM\n",
    "lcm12 = int(seed1 * seed2 / gethcf(seed1, seed2))\n",
    "\n",
    "#Calculate number of terms in each series\n",
    "terms1 = 1 + int((1 + ceiling - seed1) / seed1)\n",
    "terms2 = 1 + int((1 + ceiling - seed2) / seed2)\n",
    "commterms = 1 + int((1 + ceiling - lcm12) / lcm12)\n",
    "\n",
    "#Compute and print sum\n",
    "sum = (terms1 * (terms1 + 1) * seed1 / 2) + (terms2 * (terms2 + 1) * seed2 / 2) - (commterms * (commterms + 1) * lcm12 / 2)\n",
    "\n",
    "print(\"Sum of all the multiples of \" +\n",
    "      str(seed1) + \n",
    "      \" or \" +\n",
    "      str(seed2) +\n",
    "      \" below \" + \n",
    "      str(ceiling) + \n",
    "      \" is \" + \n",
    "      str(int(sum)))"
   ]
  },
  {
   "cell_type": "code",
   "execution_count": null,
   "metadata": {},
   "outputs": [],
   "source": []
  }
 ],
 "metadata": {
  "kernelspec": {
   "display_name": "Python 3",
   "language": "python",
   "name": "python3"
  },
  "language_info": {
   "codemirror_mode": {
    "name": "ipython",
    "version": 3
   },
   "file_extension": ".py",
   "mimetype": "text/x-python",
   "name": "python",
   "nbconvert_exporter": "python",
   "pygments_lexer": "ipython3",
   "version": "3.7.7"
  }
 },
 "nbformat": 4,
 "nbformat_minor": 4
}
